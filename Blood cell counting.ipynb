{
 "cells": [
  {
   "cell_type": "code",
   "execution_count": 12,
   "metadata": {},
   "outputs": [
    {
     "name": "stdout",
     "output_type": "stream",
     "text": [
      "BloodImage_00038_jpg.rf.645fc3a754cf6ed5142f2d7218c62bf3.txt\n"
     ]
    }
   ],
   "source": [
    "import os\n",
    "print(os.path.basename(r'C:\\Users\\DELL\\Downloads\\BCCD.v3-bccd-v3.yolov5pytorch\\test\\labels\\BloodImage_00038_jpg.rf.645fc3a754cf6ed5142f2d7218c62bf3.txt'))"
   ]
  },
  {
   "cell_type": "code",
   "execution_count": 13,
   "metadata": {},
   "outputs": [],
   "source": [
    "f = open(r\"C:\\Users\\DELL\\Downloads\\BCCD.v3-bccd-v3.yolov5pytorch\\test\\labels\\BloodImage_00038_jpg.rf.645fc3a754cf6ed5142f2d7218c62bf3.txt\", \"r\")\n",
    "a = []\n",
    "for x in f:\n",
    "    a.append(int(x[0]))"
   ]
  },
  {
   "cell_type": "code",
   "execution_count": 14,
   "metadata": {},
   "outputs": [
    {
     "name": "stdout",
     "output_type": "stream",
     "text": [
      "[2, 1, 1, 1, 1, 1, 1, 1, 1, 1, 1, 1, 1, 0, 0, 1, 1, 1, 1, 1, 1, 1, 1, 1, 1, 1, 1, 1]\n"
     ]
    }
   ],
   "source": [
    "print(a)"
   ]
  },
  {
   "cell_type": "code",
   "execution_count": 15,
   "metadata": {},
   "outputs": [],
   "source": [
    "from collections import Counter"
   ]
  },
  {
   "cell_type": "code",
   "execution_count": 16,
   "metadata": {},
   "outputs": [],
   "source": [
    "z = Counter(a) "
   ]
  },
  {
   "cell_type": "code",
   "execution_count": 17,
   "metadata": {},
   "outputs": [
    {
     "name": "stdout",
     "output_type": "stream",
     "text": [
      "Counter({1: 25, 0: 2, 2: 1})\n"
     ]
    }
   ],
   "source": [
    "print(z)"
   ]
  },
  {
   "cell_type": "code",
   "execution_count": 34,
   "metadata": {},
   "outputs": [
    {
     "name": "stdout",
     "output_type": "stream",
     "text": [
      "BloodImage_00038_jpg.rf.645fc3a754cf6ed5142f2d7218c62bf3.txt 2 25 1\n",
      "BloodImage_00044_jpg.rf.a45cc108a4db410c15dfb47b1a18340d.txt 5 13 2\n",
      "BloodImage_00062_jpg.rf.4d3cd9f145044c39bb01dd73ff920103.txt 1 11 1\n",
      "BloodImage_00090_jpg.rf.04325ebf61fbeebec96b1cc0634bf9d7.txt 2 12 1\n",
      "BloodImage_00099_jpg.rf.0f5fc116d60f5137f50077baf3425e9e.txt 2 15 1\n",
      "BloodImage_00112_jpg.rf.3c9391a322de9e35e56b0869619883af.txt 1 13 1\n",
      "BloodImage_00113_jpg.rf.690d61d572daa52fb4a8f4d68d3ed352.txt 0 11 2\n",
      "BloodImage_00120_jpg.rf.45dba1979f9ec81b2f3e4135a84e0411.txt 0 9 1\n",
      "BloodImage_00133_jpg.rf.533ec02e1a75029317655a4afbd546e6.txt 1 9 0\n",
      "BloodImage_00134_jpg.rf.7fcf321440c045d305897489a0e8b5a3.txt 2 0 1\n",
      "BloodImage_00154_jpg.rf.84c114188f5e92bdeb0a330eae8e9e0b.txt 1 6 1\n",
      "BloodImage_00160_jpg.rf.cd5e11c43744fac6cd86ffe485d51a89.txt 1 9 1\n",
      "BloodImage_00190_jpg.rf.7956880983906bc33e9e20f0a0ede347.txt 1 12 1\n",
      "BloodImage_00191_jpg.rf.a3f26b01dec3f28e14cf1e14aa3a40d2.txt 0 14 1\n",
      "BloodImage_00204_jpg.rf.d5a9e8bc84955751ec043dbe0d364b73.txt 2 14 1\n",
      "BloodImage_00227_jpg.rf.50dc96e5c4317d014b77414b217f469c.txt 0 11 1\n",
      "BloodImage_00235_jpg.rf.aad76a783f97475d4adb3a88740cb643.txt 0 3 1\n",
      "BloodImage_00241_jpg.rf.2dac29970eda2b33d510d5366eebab71.txt 0 6 1\n",
      "BloodImage_00254_jpg.rf.22887f4504afce6b1cf2ce3d3c9fc0f8.txt 2 9 1\n",
      "BloodImage_00265_jpg.rf.d0abeda12351614f370f3d5670443613.txt 0 10 1\n",
      "BloodImage_00266_jpg.rf.c4a1403e099ec19826db7f13d3708254.txt 1 12 1\n",
      "BloodImage_00275_jpg.rf.65e09ee5c994ab6a7e83e6e06a924a4a.txt 1 14 1\n",
      "BloodImage_00278_jpg.rf.5f169b4fa3a54f55e191990508d40550.txt 2 12 1\n",
      "BloodImage_00284_jpg.rf.fc8a7272a5cd265e347239ac4f960067.txt 0 10 1\n",
      "BloodImage_00289_jpg.rf.21ce0366ca993fceea4700bf8849826f.txt 0 10 1\n",
      "BloodImage_00301_jpg.rf.c09c672b0b7bc4572aa5196f88d2757c.txt 1 13 1\n",
      "BloodImage_00302_jpg.rf.88df8d680157315c54aafdcec75053c4.txt 0 12 1\n",
      "BloodImage_00325_jpg.rf.a22d27a2779f0dc4dff88503ab928d49.txt 3 11 1\n",
      "BloodImage_00334_jpg.rf.db5357e61a279a636d0a54efdc808673.txt 0 10 1\n",
      "BloodImage_00336_jpg.rf.c018ccd31a95ae98c423dbd1055bc114.txt 0 10 1\n",
      "BloodImage_00337_jpg.rf.43ed948f0cdcf288eab35fbad41e733b.txt 0 13 1\n",
      "BloodImage_00350_jpg.rf.3bdd7c82f2822380e2fc5c5d0b93fa24.txt 0 0 1\n",
      "BloodImage_00359_jpg.rf.16c01e5d87b5242cd6c1b66d2cb6fa6a.txt 0 14 1\n",
      "BloodImage_00369_jpg.rf.0257bdc83aa131367f6f73dff974fb2f.txt 2 17 1\n",
      "BloodImage_00385_jpg.rf.655fb467c0405b2ca115332234eb9935.txt 3 14 1\n",
      "BloodImage_00386_jpg.rf.739d1ed133ae9a76e0f9469fd0172e9d.txt 0 14 1\n"
     ]
    }
   ],
   "source": [
    "with os.scandir(r\"C:\\Users\\DELL\\Downloads\\BCCD.v3-bccd-v3.yolov5pytorch\\test\\labels\") as entries:\n",
    "    for entry in entries:\n",
    "        a = []\n",
    "        print(entry.name,end='')\n",
    "        f = open(entry, \"r\")\n",
    "        for x in f:\n",
    "            a.append(int(x[0]))\n",
    "        z = Counter(a) \n",
    "        #print(z)\n",
    "        print(\"\",z[0],z[1],z[2])"
   ]
  },
  {
   "cell_type": "code",
   "execution_count": 87,
   "metadata": {},
   "outputs": [
    {
     "name": "stdout",
     "output_type": "stream",
     "text": [
      "   image  1/36  \\\n",
      "0  image  2/36   \n",
      "1  image  3/36   \n",
      "2  image  4/36   \n",
      "3  image  5/36   \n",
      "4  image  6/36   \n",
      "\n",
      "  /content/test/images/BloodImage_00038_jpg.rf.645fc3a754cf6ed5142f2d7218c62bf3.jpg:  \\\n",
      "0  /content/test/images/BloodImage_00044_jpg.rf.a...                                   \n",
      "1  /content/test/images/BloodImage_00062_jpg.rf.4...                                   \n",
      "2  /content/test/images/BloodImage_00090_jpg.rf.0...                                   \n",
      "3  /content/test/images/BloodImage_00099_jpg.rf.0...                                   \n",
      "4  /content/test/images/BloodImage_00112_jpg.rf.3...                                   \n",
      "\n",
      "   416x416  2  Plateletss,  37  RBCs,  1  WBCs,  Done.  (0.025s)  \n",
      "0  416x416  5  Plateletss,  31  RBCs,  2  WBCs,  Done.  (0.024s)  \n",
      "1  416x416  2  Plateletss,  25  RBCs,  1  WBCs,  Done.  (0.024s)  \n",
      "2  416x416  4  Plateletss,  32  RBCs,  2  WBCs,  Done.  (0.021s)  \n",
      "3  416x416  2  Plateletss,  26  RBCs,  1  WBCs,  Done.  (0.020s)  \n",
      "4  416x416  1  Plateletss,  31  RBCs,  1  WBCs,  Done.  (0.020s)  \n"
     ]
    }
   ],
   "source": [
    "import pandas as pd\n",
    "file = pd.read_csv(r\"C:\\Users\\DELL\\OneDrive\\Desktop\\v5l.txt\",sep=' ')\n",
    "print(file.head())\n",
    "#file.to_csv('Actual.csv')"
   ]
  },
  {
   "cell_type": "code",
   "execution_count": 90,
   "metadata": {},
   "outputs": [
    {
     "name": "stdout",
     "output_type": "stream",
     "text": [
      "Index(['2', '37', '1'], dtype='object')\n"
     ]
    }
   ],
   "source": [
    "print(file.columns)"
   ]
  },
  {
   "cell_type": "code",
   "execution_count": 89,
   "metadata": {},
   "outputs": [],
   "source": [
    "file.drop(file.columns[[0,1,2,3,5,7,9,10,11]],axis=1,inplace=True)"
   ]
  },
  {
   "cell_type": "code",
   "execution_count": 91,
   "metadata": {},
   "outputs": [
    {
     "data": {
      "text/html": [
       "<div>\n",
       "<style scoped>\n",
       "    .dataframe tbody tr th:only-of-type {\n",
       "        vertical-align: middle;\n",
       "    }\n",
       "\n",
       "    .dataframe tbody tr th {\n",
       "        vertical-align: top;\n",
       "    }\n",
       "\n",
       "    .dataframe thead th {\n",
       "        text-align: right;\n",
       "    }\n",
       "</style>\n",
       "<table border=\"1\" class=\"dataframe\">\n",
       "  <thead>\n",
       "    <tr style=\"text-align: right;\">\n",
       "      <th></th>\n",
       "      <th>2</th>\n",
       "      <th>37</th>\n",
       "      <th>1</th>\n",
       "    </tr>\n",
       "  </thead>\n",
       "  <tbody>\n",
       "    <tr>\n",
       "      <th>0</th>\n",
       "      <td>5</td>\n",
       "      <td>31</td>\n",
       "      <td>2</td>\n",
       "    </tr>\n",
       "    <tr>\n",
       "      <th>1</th>\n",
       "      <td>2</td>\n",
       "      <td>25</td>\n",
       "      <td>1</td>\n",
       "    </tr>\n",
       "    <tr>\n",
       "      <th>2</th>\n",
       "      <td>4</td>\n",
       "      <td>32</td>\n",
       "      <td>2</td>\n",
       "    </tr>\n",
       "    <tr>\n",
       "      <th>3</th>\n",
       "      <td>2</td>\n",
       "      <td>26</td>\n",
       "      <td>1</td>\n",
       "    </tr>\n",
       "    <tr>\n",
       "      <th>4</th>\n",
       "      <td>1</td>\n",
       "      <td>31</td>\n",
       "      <td>1</td>\n",
       "    </tr>\n",
       "  </tbody>\n",
       "</table>\n",
       "</div>"
      ],
      "text/plain": [
       "   2  37  1\n",
       "0  5  31  2\n",
       "1  2  25  1\n",
       "2  4  32  2\n",
       "3  2  26  1\n",
       "4  1  31  1"
      ]
     },
     "execution_count": 91,
     "metadata": {},
     "output_type": "execute_result"
    }
   ],
   "source": [
    "file.head()"
   ]
  },
  {
   "cell_type": "code",
   "execution_count": 93,
   "metadata": {},
   "outputs": [],
   "source": [
    "file.to_csv('v5l.csv')"
   ]
  },
  {
   "cell_type": "code",
   "execution_count": 5,
   "metadata": {},
   "outputs": [
    {
     "name": "stdout",
     "output_type": "stream",
     "text": [
      "   Unnamed: 0                                          File_name  A_Platelet  \\\n",
      "0           1  BloodImage_00038_jpg.rf.645fc3a754cf6ed5142f2d...           2   \n",
      "1           2  BloodImage_00044_jpg.rf.a45cc108a4db410c15dfb4...           5   \n",
      "2           3  BloodImage_00062_jpg.rf.4d3cd9f145044c39bb01dd...           1   \n",
      "3           4  BloodImage_00090_jpg.rf.04325ebf61fbeebec96b1c...           2   \n",
      "4           5  BloodImage_00099_jpg.rf.0f5fc116d60f5137f50077...           2   \n",
      "\n",
      "   v5s  v5m  v5l  A_RBC  v5s.1  v5m.1  v5l.1  A_WBC  v5s.2  v5m.2  v5l.2  \n",
      "0    1    2    2     25     38     39     37      1      1      1      1  \n",
      "1    6    5    5     13     32     33     31      2      2      2      2  \n",
      "2    3    2    2     11     26     29     25      1      1      1      1  \n",
      "3    4    4    4     12     28     31     32      1      1      1      2  \n",
      "4    2    5    2     15     24     25     26      1      1      1      1  \n"
     ]
    }
   ],
   "source": [
    "import pandas as pd\n",
    "df = pd.read_excel(r\"C:\\Users\\DELL\\OneDrive\\Desktop\\Book1.xlsx\")\n",
    "print(df.head())"
   ]
  },
  {
   "cell_type": "code",
   "execution_count": 11,
   "metadata": {},
   "outputs": [],
   "source": [
    "df.drop(df.columns[[0]],axis=1,inplace=True)"
   ]
  },
  {
   "cell_type": "code",
   "execution_count": 12,
   "metadata": {},
   "outputs": [
    {
     "data": {
      "text/html": [
       "<div>\n",
       "<style scoped>\n",
       "    .dataframe tbody tr th:only-of-type {\n",
       "        vertical-align: middle;\n",
       "    }\n",
       "\n",
       "    .dataframe tbody tr th {\n",
       "        vertical-align: top;\n",
       "    }\n",
       "\n",
       "    .dataframe thead th {\n",
       "        text-align: right;\n",
       "    }\n",
       "</style>\n",
       "<table border=\"1\" class=\"dataframe\">\n",
       "  <thead>\n",
       "    <tr style=\"text-align: right;\">\n",
       "      <th></th>\n",
       "      <th>A_Platelet</th>\n",
       "      <th>v5s</th>\n",
       "      <th>v5m</th>\n",
       "      <th>v5l</th>\n",
       "      <th>A_RBC</th>\n",
       "      <th>v5s.1</th>\n",
       "      <th>v5m.1</th>\n",
       "      <th>v5l.1</th>\n",
       "      <th>A_WBC</th>\n",
       "      <th>v5s.2</th>\n",
       "      <th>v5m.2</th>\n",
       "      <th>v5l.2</th>\n",
       "    </tr>\n",
       "  </thead>\n",
       "  <tbody>\n",
       "    <tr>\n",
       "      <th>0</th>\n",
       "      <td>2</td>\n",
       "      <td>1</td>\n",
       "      <td>2</td>\n",
       "      <td>2</td>\n",
       "      <td>25</td>\n",
       "      <td>38</td>\n",
       "      <td>39</td>\n",
       "      <td>37</td>\n",
       "      <td>1</td>\n",
       "      <td>1</td>\n",
       "      <td>1</td>\n",
       "      <td>1</td>\n",
       "    </tr>\n",
       "    <tr>\n",
       "      <th>1</th>\n",
       "      <td>5</td>\n",
       "      <td>6</td>\n",
       "      <td>5</td>\n",
       "      <td>5</td>\n",
       "      <td>13</td>\n",
       "      <td>32</td>\n",
       "      <td>33</td>\n",
       "      <td>31</td>\n",
       "      <td>2</td>\n",
       "      <td>2</td>\n",
       "      <td>2</td>\n",
       "      <td>2</td>\n",
       "    </tr>\n",
       "    <tr>\n",
       "      <th>2</th>\n",
       "      <td>1</td>\n",
       "      <td>3</td>\n",
       "      <td>2</td>\n",
       "      <td>2</td>\n",
       "      <td>11</td>\n",
       "      <td>26</td>\n",
       "      <td>29</td>\n",
       "      <td>25</td>\n",
       "      <td>1</td>\n",
       "      <td>1</td>\n",
       "      <td>1</td>\n",
       "      <td>1</td>\n",
       "    </tr>\n",
       "    <tr>\n",
       "      <th>3</th>\n",
       "      <td>2</td>\n",
       "      <td>4</td>\n",
       "      <td>4</td>\n",
       "      <td>4</td>\n",
       "      <td>12</td>\n",
       "      <td>28</td>\n",
       "      <td>31</td>\n",
       "      <td>32</td>\n",
       "      <td>1</td>\n",
       "      <td>1</td>\n",
       "      <td>1</td>\n",
       "      <td>2</td>\n",
       "    </tr>\n",
       "    <tr>\n",
       "      <th>4</th>\n",
       "      <td>2</td>\n",
       "      <td>2</td>\n",
       "      <td>5</td>\n",
       "      <td>2</td>\n",
       "      <td>15</td>\n",
       "      <td>24</td>\n",
       "      <td>25</td>\n",
       "      <td>26</td>\n",
       "      <td>1</td>\n",
       "      <td>1</td>\n",
       "      <td>1</td>\n",
       "      <td>1</td>\n",
       "    </tr>\n",
       "  </tbody>\n",
       "</table>\n",
       "</div>"
      ],
      "text/plain": [
       "   A_Platelet  v5s  v5m  v5l  A_RBC  v5s.1  v5m.1  v5l.1  A_WBC  v5s.2  v5m.2  \\\n",
       "0           2    1    2    2     25     38     39     37      1      1      1   \n",
       "1           5    6    5    5     13     32     33     31      2      2      2   \n",
       "2           1    3    2    2     11     26     29     25      1      1      1   \n",
       "3           2    4    4    4     12     28     31     32      1      1      1   \n",
       "4           2    2    5    2     15     24     25     26      1      1      1   \n",
       "\n",
       "   v5l.2  \n",
       "0      1  \n",
       "1      2  \n",
       "2      1  \n",
       "3      2  \n",
       "4      1  "
      ]
     },
     "execution_count": 12,
     "metadata": {},
     "output_type": "execute_result"
    }
   ],
   "source": [
    "df.head()"
   ]
  },
  {
   "cell_type": "code",
   "execution_count": 13,
   "metadata": {},
   "outputs": [],
   "source": [
    "from sklearn.metrics import accuracy_score, f1_score, precision_score, recall_score, classification_report, confusion_matrix"
   ]
  },
  {
   "cell_type": "code",
   "execution_count": 17,
   "metadata": {},
   "outputs": [
    {
     "name": "stdout",
     "output_type": "stream",
     "text": [
      "0.4444444444444444\n",
      "0.4444444444444444\n",
      "0.4444444444444444\n"
     ]
    }
   ],
   "source": [
    "print(f1_score(df.A_Platelet, df.v5s,average='micro'))\n",
    "print(precision_score(df.A_Platelet, df.v5s,average='micro'))\n",
    "print(recall_score(df.A_Platelet, df.v5s,average='micro')) "
   ]
  },
  {
   "cell_type": "code",
   "execution_count": 33,
   "metadata": {},
   "outputs": [
    {
     "name": "stdout",
     "output_type": "stream",
     "text": [
      "0.8055555555555556\n",
      "0.8333333333333334\n",
      "0.8055555555555556\n"
     ]
    }
   ],
   "source": [
    "print(accuracy_score(df.A_WBC, df['v5s.2']))\n",
    "print(accuracy_score(df.A_WBC, df['v5m.2']))\n",
    "print(accuracy_score(df.A_WBC, df['v5l.2']))"
   ]
  },
  {
   "cell_type": "code",
   "execution_count": 35,
   "metadata": {},
   "outputs": [
    {
     "name": "stdout",
     "output_type": "stream",
     "text": [
      "0.0\n",
      "0.0\n",
      "0.0\n"
     ]
    }
   ],
   "source": [
    "print(accuracy_score(df.A_RBC, df['v5s.1']))\n",
    "print(accuracy_score(df.A_RBC, df['v5m.1']))\n",
    "print(accuracy_score(df.A_RBC, df['v5l.1']))"
   ]
  },
  {
   "cell_type": "code",
   "execution_count": null,
   "metadata": {},
   "outputs": [],
   "source": []
  }
 ],
 "metadata": {
  "kernelspec": {
   "display_name": "Python 3",
   "language": "python",
   "name": "python3"
  },
  "language_info": {
   "codemirror_mode": {
    "name": "ipython",
    "version": 3
   },
   "file_extension": ".py",
   "mimetype": "text/x-python",
   "name": "python",
   "nbconvert_exporter": "python",
   "pygments_lexer": "ipython3",
   "version": "3.8.3"
  }
 },
 "nbformat": 4,
 "nbformat_minor": 4
}
